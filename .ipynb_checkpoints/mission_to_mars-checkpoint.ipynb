{
 "cells": [
  {
   "cell_type": "code",
   "execution_count": 60,
   "metadata": {},
   "outputs": [],
   "source": [
    "# Dependencies\n",
    "from bs4 import BeautifulSoup\n",
    "import requests"
   ]
  },
  {
   "cell_type": "markdown",
   "metadata": {},
   "source": [
    "### SCRAPE NEWS, TITLES, "
   ]
  },
  {
   "cell_type": "code",
   "execution_count": 61,
   "metadata": {},
   "outputs": [],
   "source": [
    "# URL of page to be scraped\n",
    "#url = 'https://mars.nasa.gov/news/' # -- redirected\n",
    "#url ='https://mars.nasa.gov/news/?page=0&per_page=40&order=publish_date+desc%2Ccreated_at+desc&search=&category=19%2C165%2C184%2C204&blank_scope=Latest'\n",
    "url ='https://mars.nasa.gov/#news_and_events'"
   ]
  },
  {
   "cell_type": "code",
   "execution_count": 62,
   "metadata": {},
   "outputs": [],
   "source": [
    "# Retrieve page with the requests module\n",
    "response = requests.get(url)"
   ]
  },
  {
   "cell_type": "code",
   "execution_count": 63,
   "metadata": {},
   "outputs": [],
   "source": [
    "# Create BeautifulSoup object; parse with 'html.parser'\n",
    "soup = BeautifulSoup(response.text, 'lxml')"
   ]
  },
  {
   "cell_type": "code",
   "execution_count": 64,
   "metadata": {
    "scrolled": false
   },
   "outputs": [],
   "source": [
    "# Examine the results, then determine element that contains sought info\n",
    "#print(soup.prettify())"
   ]
  },
  {
   "cell_type": "code",
   "execution_count": 65,
   "metadata": {
    "scrolled": true
   },
   "outputs": [
    {
     "name": "stdout",
     "output_type": "stream",
     "text": [
      "[<h3 class=\"title\">\n",
      "<a href=\"/news/8408/the-marco-mission-comes-to-an-end/\">The MarCO Mission Comes to an End</a>\n",
      "</h3>, <h3 class=\"title\">\n",
      "<a href=\"/news/8613/a-year-of-surprising-science-from-nasas-insight-mars-mission/\">A Year of Surprising Science From NASA's InSight Mars Mission</a>\n",
      "</h3>, <h3 class=\"title\">\n",
      "<a href=\"/news/8612/mars-insight-lander-to-push-on-top-of-the-mole/\">Mars InSight Lander to Push on Top of the 'Mole'</a>\n",
      "</h3>, <h3 class=\"title\">\n",
      "<a href=\"/events/200\" target=\"_blank\">Spirit and Opportunity: Landing on Mars</a>\n",
      "</h3>, <h3 class=\"title\">\n",
      "<a href=\"/events/195\" target=\"_blank\">USA Science &amp; Engineering Festival</a>\n",
      "</h3>, <h3 class=\"title\">\n",
      "<a href=\"https://mars.nasa.gov/insight/timeline/landing/summary/\" target=\"_self\">2nd Anniversary: InSight Lands on Mars</a>\n",
      "</h3>]\n"
     ]
    }
   ],
   "source": [
    "# results are returned as an iterable list\n",
    "results = soup.find_all('h3', class_='title')\n",
    "print(results)"
   ]
  },
  {
   "cell_type": "markdown",
   "metadata": {},
   "source": [
    "### NASA Mars News"
   ]
  },
  {
   "cell_type": "code",
   "execution_count": 66,
   "metadata": {},
   "outputs": [
    {
     "name": "stdout",
     "output_type": "stream",
     "text": [
      "/news/8408/the-marco-mission-comes-to-an-end/\n"
     ]
    }
   ],
   "source": [
    "# First News Article\n",
    "results = soup.find('h3', class_='title')\n",
    "news_title=results.text\n",
    "print(results.a['href'])"
   ]
  },
  {
   "cell_type": "code",
   "execution_count": 78,
   "metadata": {},
   "outputs": [
    {
     "name": "stdout",
     "output_type": "stream",
     "text": [
      "The first CubeSat mission to fly past Mars has been completed. Contact with the twin Mars Cube One spacecraft - known collectively as MarCO - was lost in early January 2019 as the trajectories of the solar-powered CubeSats carried them farther from the Sun. The team reattempted contacting the briefcase-sized pair this past September, when their orbits brought them closer to the Sun again. On Feb. 2, having been unable to detect any signals from them, the team declared the end of the mission.\n"
     ]
    }
   ],
   "source": [
    "# First News Articles Paragraph\n",
    "href_path=results.a['href']\n",
    "#print(href_path)\n",
    "url='https://mars.nasa.gov/'+href_path\n",
    "#print(url)\n",
    "response = requests.get(url)\n",
    "soup2 = BeautifulSoup(response.text, 'lxml')\n",
    "#print(soup2)\n",
    "results2=soup2.find_all('p')\n",
    "#print(results2[3].text)\n",
    "# newsresults=soup.find_all('p')\n",
    "# #save to variable\n",
    "news_p= results2[3].text\n",
    "\n",
    "print(news_p)\n",
    "\n"
   ]
  },
  {
   "cell_type": "code",
   "execution_count": null,
   "metadata": {},
   "outputs": [],
   "source": []
  },
  {
   "cell_type": "code",
   "execution_count": 59,
   "metadata": {},
   "outputs": [
    {
     "name": "stdout",
     "output_type": "stream",
     "text": [
      "MarCO-B (Wall-E) approaches Mars: MarCO-B, one of the experimental Mars Cube One (MarCO) CubeSats, took these images as it approached Mars. Image Credit: NASA/JPL-Caltech. Full image and caption.\n",
      "The pair of briefcase-sized satellites made history when they sailed past Mars in 2019.\n",
      "Updated on Feb. 27, 2020\n",
      "The first CubeSat mission to fly past Mars has been completed. Contact with the twin Mars Cube One spacecraft - known collectively as MarCO - was lost in early January 2019 as the trajectories of the solar-powered CubeSats carried them farther from the Sun. The team reattempted contacting the briefcase-sized pair this past September, when their orbits brought them closer to the Sun again. On Feb. 2, having been unable to detect any signals from them, the team declared the end of the mission.\n",
      "The two CubeSats made history, not just for flying past Mars but also for relaying data from NASA's InSight lander. Designs derived from MarCO's radio, attitude control system and antenna will be in CubeSats that NASA will launch to the Moon with Artemis I, part of an effort to send humans back to the Moon in preparation for astronaut missions to Mars.\n",
      "Data collected by each MarCO CubeSat will be published in the coming year, ensuring that future generations of small-satellite engineers can learn from these important pathfinders.\n",
      "Original story posted February 5, 2019\n",
      "Before the pair of briefcase-sized spacecraft known collectively as MarCO launched last year, their success was measured by survival: If they were able to operate in deep space at all, they would be pushing the limits of experimental technology.\n",
      "\n",
      "MarCO, short for Mars Cube One, was the first interplanetary mission to use a class of mini-spacecraft called CubeSats. The MarCOs — nicknamed EVE and WALL-E, after characters from a Pixar film — served as communications relays during InSight's landing, beaming back data at each stage of its descent to the Martian surface in near-real time, along with InSight's first image. WALL-E sent back stunning images of Mars as well, while EVE performed some simple radio science.\n",
      "All of this was achieved with experimental technology that cost a fraction of what most space missions do: $18.5 million provided by NASA's Jet Propulsion Laboratory in Pasadena, California, which built the CubeSats.\n",
      "WALL-E was last heard from on Dec. 29; EVE, on Jan. 4. Based on trajectory calculations, WALL-E is currently more than 1 million miles (1.6 million kilometers) past Mars; EVE is farther, almost 2 million miles (3.2 million kilometers) past Mars.\n",
      "The mission team has several theories for why they haven't been able to contact the pair. WALL-E has a leaky thruster. Attitude-control issues could be causing them to wobble and lose the ability to send and receive commands. The brightness sensors that allow the CubeSats to stay pointed at the Sun and recharge their batteries could be another factor. The MarCOs are in orbit around the Sun and will only get farther away as February wears on. The farther they are, the more precisely they need to point their antennas to communicate with Earth.\n",
      "The MarCOs won't start moving toward the Sun again until this summer. The team will reattempt to contact the CubeSats at that time, though it's anyone's guess whether their batteries and other parts will last that long.\n",
      "Even if they're never revived, the team considers MarCO a spectacular success.\n",
      "\"This mission was always about pushing the limits of miniaturized technology and seeing just how far it could take us,\" said Andy Klesh, the mission's chief engineer at JPL. \"We've put a stake in the ground. Future CubeSats might go even farther.\"\n",
      "A number of the critical spare parts for each MarCO will be used in other CubeSat missions. That includes their experimental radios, antennas and propulsion systems. Several of these systems were provided by commercial vendors, making it easier for other CubeSats to use them as well.\n",
      "More small spacecraft are on the way. NASA is set to launch a variety of new CubeSats in coming years.\n",
      "\"There's big potential in these small packages,\" said John Baker, the MarCO program manager at JPL. \"CubeSats — part of a larger group of spacecraft called SmallSats — are a new platform for space exploration that is affordable to more than just government agencies.\"\n",
      "For more information, visit:\n",
      "https://www.jpl.nasa.gov/cubesat/missions/marco.php\n",
      "News Relations Contact\n",
      "Andrew Good\n",
      "Jet Propulsion Laboratory, Pasadena, Calif.\n",
      "818-393-2433\n",
      "andrew.c.good@jpl.nasa.gov\n",
      "JoAnna Wendel\n",
      "Headquarters, Washington\n",
      "202-358-1003\n",
      "Joanna.r.wendel@nasa.gov\n",
      "Managed by the Mars Exploration Program and the Jet Propulsion Laboratory for NASA’s Science Mission Directorate\n"
     ]
    }
   ],
   "source": [
    "# latest_title=results[1].text\n",
    "# latest_title_paragraph\n",
    "# print(latest_title)\n",
    "\n",
    "for x in results:\n",
    "     print(x.text)"
   ]
  },
  {
   "cell_type": "markdown",
   "metadata": {},
   "source": [
    "### JPL Mars Space Images - Featured Image"
   ]
  },
  {
   "cell_type": "code",
   "execution_count": null,
   "metadata": {},
   "outputs": [],
   "source": []
  },
  {
   "cell_type": "markdown",
   "metadata": {},
   "source": [
    "### Splinter Featured Image URL "
   ]
  },
  {
   "cell_type": "markdown",
   "metadata": {},
   "source": [
    "### SCRAPE WEATHER\n"
   ]
  },
  {
   "cell_type": "markdown",
   "metadata": {},
   "source": [
    "### SCRAPRE MARS FACTS and Convert to table"
   ]
  },
  {
   "cell_type": "markdown",
   "metadata": {},
   "source": [
    "### Save results to python dictionary, save to MongoDB, present FLASK to HTML"
   ]
  },
  {
   "cell_type": "code",
   "execution_count": 24,
   "metadata": {},
   "outputs": [],
   "source": [
    "# # URL of page to be scraped\n",
    "# url = 'https://mars.nasa.gov/#news_and_events'\n",
    "# response = requests.get(url)\n",
    "# # Create BeautifulSoup object; parse with 'html.parser'\n",
    "# soup = BeautifulSoup(response.text, 'lxml')\n",
    "# print(soup.prettify())"
   ]
  },
  {
   "cell_type": "code",
   "execution_count": 25,
   "metadata": {},
   "outputs": [],
   "source": [
    "# # results are returned as an iterable list\n",
    "# results = soup.find_all('h3', class_='title')\n",
    "# print(results)"
   ]
  },
  {
   "cell_type": "code",
   "execution_count": null,
   "metadata": {},
   "outputs": [],
   "source": []
  }
 ],
 "metadata": {
  "kernelspec": {
   "display_name": "Python 3",
   "language": "python",
   "name": "python3"
  },
  "language_info": {
   "codemirror_mode": {
    "name": "ipython",
    "version": 3
   },
   "file_extension": ".py",
   "mimetype": "text/x-python",
   "name": "python",
   "nbconvert_exporter": "python",
   "pygments_lexer": "ipython3",
   "version": "3.7.4"
  },
  "varInspector": {
   "cols": {
    "lenName": 16,
    "lenType": 16,
    "lenVar": 40
   },
   "kernels_config": {
    "python": {
     "delete_cmd_postfix": "",
     "delete_cmd_prefix": "del ",
     "library": "var_list.py",
     "varRefreshCmd": "print(var_dic_list())"
    },
    "r": {
     "delete_cmd_postfix": ") ",
     "delete_cmd_prefix": "rm(",
     "library": "var_list.r",
     "varRefreshCmd": "cat(var_dic_list()) "
    }
   },
   "types_to_exclude": [
    "module",
    "function",
    "builtin_function_or_method",
    "instance",
    "_Feature"
   ],
   "window_display": false
  }
 },
 "nbformat": 4,
 "nbformat_minor": 2
}
